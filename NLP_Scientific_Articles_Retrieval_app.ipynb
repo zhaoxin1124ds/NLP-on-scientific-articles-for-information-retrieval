{
  "nbformat": 4,
  "nbformat_minor": 0,
  "metadata": {
    "colab": {
      "name": "NLP_Scientific_Articles_Retrieval_app.ipynb",
      "provenance": [],
      "collapsed_sections": [],
      "authorship_tag": "ABX9TyNXnh19dS0rN/vWkLpMKuOg",
      "include_colab_link": true
    },
    "kernelspec": {
      "display_name": "Python 3",
      "name": "python3"
    },
    "accelerator": "GPU"
  },
  "cells": [
    {
      "cell_type": "markdown",
      "metadata": {
        "id": "view-in-github",
        "colab_type": "text"
      },
      "source": [
        "<a href=\"https://colab.research.google.com/github/zhaoxin1124ds/NLP-on-scientific-articles-for-information-retrieval/blob/main/NLP_Scientific_Articles_Retrieval_app.ipynb\" target=\"_parent\"><img src=\"https://colab.research.google.com/assets/colab-badge.svg\" alt=\"Open In Colab\"/></a>"
      ]
    },
    {
      "cell_type": "markdown",
      "metadata": {
        "id": "Vi2k37VNZEeY"
      },
      "source": [
        "Install anvil uplink"
      ]
    },
    {
      "cell_type": "code",
      "metadata": {
        "colab": {
          "base_uri": "https://localhost:8080/",
          "height": 392
        },
        "id": "RFeKEZiq7Yvp",
        "outputId": "11406103-eb29-4c29-f517-b57d1561bd01"
      },
      "source": [
        "!pip install anvil-uplink"
      ],
      "execution_count": null,
      "outputs": [
        {
          "output_type": "stream",
          "text": [
            "Collecting anvil-uplink\n",
            "\u001b[?25l  Downloading https://files.pythonhosted.org/packages/a1/e7/4eb5859dd68eab5baf07e91e38eebd0fa7fa87aef4f2ebc5ca00490c8bbc/anvil_uplink-0.3.34-py2.py3-none-any.whl (58kB)\n",
            "\r\u001b[K     |█████▋                          | 10kB 22.9MB/s eta 0:00:01\r\u001b[K     |███████████▏                    | 20kB 15.0MB/s eta 0:00:01\r\u001b[K     |████████████████▉               | 30kB 13.0MB/s eta 0:00:01\r\u001b[K     |██████████████████████▍         | 40kB 12.1MB/s eta 0:00:01\r\u001b[K     |████████████████████████████    | 51kB 8.2MB/s eta 0:00:01\r\u001b[K     |████████████████████████████████| 61kB 5.7MB/s \n",
            "\u001b[?25hCollecting argparse\n",
            "  Downloading https://files.pythonhosted.org/packages/f2/94/3af39d34be01a24a6e65433d19e107099374224905f1e0cc6bbe1fd22a2f/argparse-1.4.0-py2.py3-none-any.whl\n",
            "Requirement already satisfied: future in /usr/local/lib/python3.6/dist-packages (from anvil-uplink) (0.16.0)\n",
            "Requirement already satisfied: six in /usr/local/lib/python3.6/dist-packages (from anvil-uplink) (1.15.0)\n",
            "Collecting ws4py\n",
            "\u001b[?25l  Downloading https://files.pythonhosted.org/packages/53/20/4019a739b2eefe9282d3822ef6a225250af964b117356971bd55e274193c/ws4py-0.5.1.tar.gz (51kB)\n",
            "\u001b[K     |████████████████████████████████| 61kB 7.5MB/s \n",
            "\u001b[?25hBuilding wheels for collected packages: ws4py\n",
            "  Building wheel for ws4py (setup.py) ... \u001b[?25l\u001b[?25hdone\n",
            "  Created wheel for ws4py: filename=ws4py-0.5.1-cp36-none-any.whl size=45216 sha256=aa7a208bcb52b6137ad1cfe006fbe848254def5576f2cbc919c79ca867d272af\n",
            "  Stored in directory: /root/.cache/pip/wheels/a2/6e/4e/8b0ae12fb9b8a05715256952cf7609a8ab86285fab99b88c68\n",
            "Successfully built ws4py\n",
            "Installing collected packages: argparse, ws4py, anvil-uplink\n",
            "Successfully installed anvil-uplink-0.3.34 argparse-1.4.0 ws4py-0.5.1\n"
          ],
          "name": "stdout"
        },
        {
          "output_type": "display_data",
          "data": {
            "application/vnd.colab-display-data+json": {
              "pip_warning": {
                "packages": [
                  "argparse",
                  "google"
                ]
              }
            }
          },
          "metadata": {
            "tags": []
          }
        }
      ]
    },
    {
      "cell_type": "markdown",
      "metadata": {
        "id": "bA2kttHXZJPz"
      },
      "source": [
        "Install anvil server"
      ]
    },
    {
      "cell_type": "code",
      "metadata": {
        "id": "2-oQpqBY7Qch"
      },
      "source": [
        "import anvil.server"
      ],
      "execution_count": null,
      "outputs": []
    },
    {
      "cell_type": "markdown",
      "metadata": {
        "id": "1MLJxujxZPWP"
      },
      "source": [
        "Front-end link's connection key"
      ]
    },
    {
      "cell_type": "code",
      "metadata": {
        "id": "FXH2_Bge7c68",
        "colab": {
          "base_uri": "https://localhost:8080/"
        },
        "outputId": "fce729a6-08f6-4f2d-b58a-6ad76aea1c21"
      },
      "source": [
        "anvil.server.connect(\"QMV4ISJL6TAYCK6MPQV562S3-H6ELBKALGZIJUJN7\")"
      ],
      "execution_count": null,
      "outputs": [
        {
          "output_type": "stream",
          "text": [
            "Connecting to wss://anvil.works/uplink\n",
            "Anvil websocket open\n",
            "Connected to \"Default environment (dev)\" as SERVER\n"
          ],
          "name": "stdout"
        }
      ]
    },
    {
      "cell_type": "markdown",
      "metadata": {
        "id": "2g5xGMkKJ2jb"
      },
      "source": [
        "##Word2Vec"
      ]
    },
    {
      "cell_type": "code",
      "metadata": {
        "id": "zwQK3yfxXn_N",
        "colab": {
          "base_uri": "https://localhost:8080/"
        },
        "outputId": "ca3a864c-3a41-4628-9a91-301615a4c863"
      },
      "source": [
        "import pandas as pd\r\n",
        "import numpy as np\r\n",
        "\r\n",
        "import gensim\r\n",
        "from sklearn.metrics.pairwise import cosine_similarity\r\n",
        "\r\n",
        "!python -m spacy download en"
      ],
      "execution_count": null,
      "outputs": [
        {
          "output_type": "stream",
          "text": [
            "Requirement already satisfied: en_core_web_sm==2.2.5 from https://github.com/explosion/spacy-models/releases/download/en_core_web_sm-2.2.5/en_core_web_sm-2.2.5.tar.gz#egg=en_core_web_sm==2.2.5 in /usr/local/lib/python3.6/dist-packages (2.2.5)\n",
            "Requirement already satisfied: spacy>=2.2.2 in /usr/local/lib/python3.6/dist-packages (from en_core_web_sm==2.2.5) (2.2.4)\n",
            "Requirement already satisfied: wasabi<1.1.0,>=0.4.0 in /usr/local/lib/python3.6/dist-packages (from spacy>=2.2.2->en_core_web_sm==2.2.5) (0.8.0)\n",
            "Requirement already satisfied: setuptools in /usr/local/lib/python3.6/dist-packages (from spacy>=2.2.2->en_core_web_sm==2.2.5) (51.0.0)\n",
            "Requirement already satisfied: srsly<1.1.0,>=1.0.2 in /usr/local/lib/python3.6/dist-packages (from spacy>=2.2.2->en_core_web_sm==2.2.5) (1.0.5)\n",
            "Requirement already satisfied: tqdm<5.0.0,>=4.38.0 in /usr/local/lib/python3.6/dist-packages (from spacy>=2.2.2->en_core_web_sm==2.2.5) (4.41.1)\n",
            "Requirement already satisfied: numpy>=1.15.0 in /usr/local/lib/python3.6/dist-packages (from spacy>=2.2.2->en_core_web_sm==2.2.5) (1.19.4)\n",
            "Requirement already satisfied: murmurhash<1.1.0,>=0.28.0 in /usr/local/lib/python3.6/dist-packages (from spacy>=2.2.2->en_core_web_sm==2.2.5) (1.0.5)\n",
            "Requirement already satisfied: catalogue<1.1.0,>=0.0.7 in /usr/local/lib/python3.6/dist-packages (from spacy>=2.2.2->en_core_web_sm==2.2.5) (1.0.0)\n",
            "Requirement already satisfied: cymem<2.1.0,>=2.0.2 in /usr/local/lib/python3.6/dist-packages (from spacy>=2.2.2->en_core_web_sm==2.2.5) (2.0.5)\n",
            "Requirement already satisfied: preshed<3.1.0,>=3.0.2 in /usr/local/lib/python3.6/dist-packages (from spacy>=2.2.2->en_core_web_sm==2.2.5) (3.0.5)\n",
            "Requirement already satisfied: requests<3.0.0,>=2.13.0 in /usr/local/lib/python3.6/dist-packages (from spacy>=2.2.2->en_core_web_sm==2.2.5) (2.23.0)\n",
            "Requirement already satisfied: plac<1.2.0,>=0.9.6 in /usr/local/lib/python3.6/dist-packages (from spacy>=2.2.2->en_core_web_sm==2.2.5) (1.1.3)\n",
            "Requirement already satisfied: thinc==7.4.0 in /usr/local/lib/python3.6/dist-packages (from spacy>=2.2.2->en_core_web_sm==2.2.5) (7.4.0)\n",
            "Requirement already satisfied: blis<0.5.0,>=0.4.0 in /usr/local/lib/python3.6/dist-packages (from spacy>=2.2.2->en_core_web_sm==2.2.5) (0.4.1)\n",
            "Requirement already satisfied: importlib-metadata>=0.20; python_version < \"3.8\" in /usr/local/lib/python3.6/dist-packages (from catalogue<1.1.0,>=0.0.7->spacy>=2.2.2->en_core_web_sm==2.2.5) (3.3.0)\n",
            "Requirement already satisfied: chardet<4,>=3.0.2 in /usr/local/lib/python3.6/dist-packages (from requests<3.0.0,>=2.13.0->spacy>=2.2.2->en_core_web_sm==2.2.5) (3.0.4)\n",
            "Requirement already satisfied: certifi>=2017.4.17 in /usr/local/lib/python3.6/dist-packages (from requests<3.0.0,>=2.13.0->spacy>=2.2.2->en_core_web_sm==2.2.5) (2020.12.5)\n",
            "Requirement already satisfied: urllib3!=1.25.0,!=1.25.1,<1.26,>=1.21.1 in /usr/local/lib/python3.6/dist-packages (from requests<3.0.0,>=2.13.0->spacy>=2.2.2->en_core_web_sm==2.2.5) (1.24.3)\n",
            "Requirement already satisfied: idna<3,>=2.5 in /usr/local/lib/python3.6/dist-packages (from requests<3.0.0,>=2.13.0->spacy>=2.2.2->en_core_web_sm==2.2.5) (2.10)\n",
            "Requirement already satisfied: typing-extensions>=3.6.4; python_version < \"3.8\" in /usr/local/lib/python3.6/dist-packages (from importlib-metadata>=0.20; python_version < \"3.8\"->catalogue<1.1.0,>=0.0.7->spacy>=2.2.2->en_core_web_sm==2.2.5) (3.7.4.3)\n",
            "Requirement already satisfied: zipp>=0.5 in /usr/local/lib/python3.6/dist-packages (from importlib-metadata>=0.20; python_version < \"3.8\"->catalogue<1.1.0,>=0.0.7->spacy>=2.2.2->en_core_web_sm==2.2.5) (3.4.0)\n",
            "\u001b[38;5;2m✔ Download and installation successful\u001b[0m\n",
            "You can now load the model via spacy.load('en_core_web_sm')\n",
            "\u001b[38;5;2m✔ Linking successful\u001b[0m\n",
            "/usr/local/lib/python3.6/dist-packages/en_core_web_sm -->\n",
            "/usr/local/lib/python3.6/dist-packages/spacy/data/en\n",
            "You can now load the model via spacy.load('en')\n"
          ],
          "name": "stdout"
        }
      ]
    },
    {
      "cell_type": "code",
      "metadata": {
        "id": "u83_9J66kttJ"
      },
      "source": [
        "url = 'https://drive.google.com/file/d/1OwzUFxCkdiT7DzjaEYfkXgJe2O9-AkxA/view?usp=sharing'\r\n",
        "path = 'https://drive.google.com/uc?export=download&id='+url.split('/')[-2]\r\n",
        "data_token = pd.read_csv(path)"
      ],
      "execution_count": null,
      "outputs": []
    },
    {
      "cell_type": "code",
      "metadata": {
        "id": "XE1-2whSFvqh"
      },
      "source": [
        "inp_list = []\r\n",
        "\r\n",
        "for text in (data_token['sent']):\r\n",
        "  inp_list.append(text.split())"
      ],
      "execution_count": null,
      "outputs": []
    },
    {
      "cell_type": "code",
      "metadata": {
        "id": "FudolK_ggmvI"
      },
      "source": [
        "model = gensim.models.Word2Vec(inp_list, workers=8, min_count=1, window=6, sg=0, hs=1, size=300)"
      ],
      "execution_count": null,
      "outputs": []
    },
    {
      "cell_type": "code",
      "metadata": {
        "colab": {
          "base_uri": "https://localhost:8080/"
        },
        "id": "_AbgrJKziicr",
        "outputId": "1fc0c367-fe87-47c7-9cb4-40fcc6a858bd"
      },
      "source": [
        "word2vec = np.zeros((data_token.shape[0],300)) ### an array of Nx300\r\n",
        "for i, text in enumerate(inp_list):\r\n",
        "  word2vec[i,:] = np.mean([model[lemma] for lemma in text], axis=0)"
      ],
      "execution_count": null,
      "outputs": [
        {
          "output_type": "stream",
          "text": [
            "/usr/local/lib/python3.6/dist-packages/ipykernel_launcher.py:3: DeprecationWarning: Call to deprecated `__getitem__` (Method will be removed in 4.0.0, use self.wv.__getitem__() instead).\n",
            "  This is separate from the ipykernel package so we can avoid doing imports until\n"
          ],
          "name": "stderr"
        }
      ]
    },
    {
      "cell_type": "code",
      "metadata": {
        "id": "qE2fsVfWh0Rc"
      },
      "source": [
        "word2vec_df = pd.DataFrame(word2vec)\r\n",
        "word2vec_df = pd.concat([data_token[['TOPIC', 'TITLE', 'ABSTRACT']], word2vec_df], axis=1)"
      ],
      "execution_count": null,
      "outputs": []
    },
    {
      "cell_type": "markdown",
      "metadata": {
        "id": "Jc-XWXDT-y9V"
      },
      "source": [
        "#information retrieval"
      ]
    },
    {
      "cell_type": "code",
      "metadata": {
        "id": "98_V_jUkumUg"
      },
      "source": [
        "def get_embedding_w2v1(token): ### to vectorize the query using trained model, query is a string\r\n",
        "\r\n",
        "  embedding = [] ### a list to store the vector of query\r\n",
        "\r\n",
        "  if len(token)<1: ### if query length smaller than 1 than output a vector of 0s\r\n",
        "    return np.zeros(300)\r\n",
        "  else:\r\n",
        "    for tok in (token): ### for each word in the query, if it is in the vocabulary of the model, transfer it to vector\r\n",
        "      if tok in model.wv.vocab:\r\n",
        "        embedding.append(model[tok]) \r\n",
        "      else: ### if it is not in the vocabulary, give it a random value.\r\n",
        "        embedding.append(np.random.rand(300))\r\n",
        "\r\n",
        "  return np.mean(embedding, axis=0) ### mean value of all the words to get the vector of the query, this is same with \r\n",
        "                                    ### what we did when generating vectors for data base."
      ],
      "execution_count": null,
      "outputs": []
    },
    {
      "cell_type": "code",
      "metadata": {
        "id": "eRsV-DWUyUqr"
      },
      "source": [
        "pd.options.mode.chained_assignment = None  # default='warn'\r\n",
        "doc_vec = word2vec_df.drop(columns=['TOPIC','TITLE','ABSTRACT'])"
      ],
      "execution_count": null,
      "outputs": []
    },
    {
      "cell_type": "code",
      "metadata": {
        "id": "MDEDrNeDxDce"
      },
      "source": [
        "def info_retrv(inp_string): ### information retrieval, input must be a list of string ['string1', 'string2', ..., 'stringn']\r\n",
        "\r\n",
        "  query_vec = get_embedding_w2v1(inp_string.split())\r\n",
        "\r\n",
        "  doc = word2vec_df[['TOPIC','TITLE','ABSTRACT']]\r\n",
        "  doc['similarity'] = 0\r\n",
        "\r\n",
        "  for i in range(word2vec_df.shape[0]):\r\n",
        "  \r\n",
        "    doc.loc[i, 'similarity'] = cosine_similarity(np.array(doc_vec.loc[i,:]).reshape(1,-1), np.array(query_vec).reshape(1,-1)).item()\r\n",
        "\r\n",
        "  doc.sort_values(by='similarity', ascending=False, inplace=True)\r\n",
        "  doc = doc.iloc[:5].reset_index(drop=True)\r\n",
        "\r\n",
        "  return doc\r\n"
      ],
      "execution_count": null,
      "outputs": []
    },
    {
      "cell_type": "code",
      "metadata": {
        "id": "3lGeR1w_Tgd9"
      },
      "source": [
        "@anvil.server.callable\r\n",
        "def top1_return(inp_string):\r\n",
        "  doc = info_retrv(inp_string)\r\n",
        "  out = ['Top 1 article;', 'Topic: '+ str(doc.loc[0,'TOPIC']) + ';', 'Title: '+ str(doc.loc[0,'TITLE']) + ';', 'Similarity: '+ str(doc.loc[0,'similarity'])]\r\n",
        "  return out\r\n",
        "\r\n",
        "@anvil.server.callable\r\n",
        "def top2_return(inp_string):\r\n",
        "  doc = info_retrv(inp_string)\r\n",
        "  out = ['Top 2 article;', 'Topic: '+ str(doc.loc[1,'TOPIC']) + ';', 'Title: '+ str(doc.loc[1,'TITLE']) + ';', 'Similarity: '+ str(doc.loc[1,'similarity'])]\r\n",
        "  return out\r\n",
        "\r\n",
        "@anvil.server.callable\r\n",
        "def top3_return(inp_string):\r\n",
        "  doc = info_retrv(inp_string)\r\n",
        "  out = ['Top 3 article;', 'Topic: '+ str(doc.loc[2,'TOPIC']) + ';', 'Title: '+ str(doc.loc[2,'TITLE']) + ';', 'Similarity: '+ str(doc.loc[2,'similarity'])]\r\n",
        "  return out"
      ],
      "execution_count": null,
      "outputs": []
    },
    {
      "cell_type": "code",
      "metadata": {
        "colab": {
          "base_uri": "https://localhost:8080/",
          "height": 487
        },
        "id": "sAkJjADANfko",
        "outputId": "a233d4c6-9f2b-4783-b6da-b5fcf3157cf3"
      },
      "source": [
        "### Run this cell whenever need to connect to front-end app\r\n",
        "### This cell will keep running forever when connecting \r\n",
        "### stop this cell anytime after finishing app demo, then you will also lose the connection\r\n",
        "### APP link: https://scientific-articles-search.anvil.app/\r\n",
        "anvil.server.wait_forever()"
      ],
      "execution_count": null,
      "outputs": [
        {
          "output_type": "stream",
          "text": [
            "/usr/local/lib/python3.6/dist-packages/ipykernel_launcher.py:10: DeprecationWarning: Call to deprecated `__getitem__` (Method will be removed in 4.0.0, use self.wv.__getitem__() instead).\n",
            "  # Remove the CWD from sys.path while we load stuff.\n",
            "/usr/local/lib/python3.6/dist-packages/ipykernel_launcher.py:10: DeprecationWarning: Call to deprecated `__getitem__` (Method will be removed in 4.0.0, use self.wv.__getitem__() instead).\n",
            "  # Remove the CWD from sys.path while we load stuff.\n",
            "/usr/local/lib/python3.6/dist-packages/ipykernel_launcher.py:10: DeprecationWarning: Call to deprecated `__getitem__` (Method will be removed in 4.0.0, use self.wv.__getitem__() instead).\n",
            "  # Remove the CWD from sys.path while we load stuff.\n",
            "/usr/local/lib/python3.6/dist-packages/ipykernel_launcher.py:10: DeprecationWarning: Call to deprecated `__getitem__` (Method will be removed in 4.0.0, use self.wv.__getitem__() instead).\n",
            "  # Remove the CWD from sys.path while we load stuff.\n",
            "/usr/local/lib/python3.6/dist-packages/ipykernel_launcher.py:10: DeprecationWarning: Call to deprecated `__getitem__` (Method will be removed in 4.0.0, use self.wv.__getitem__() instead).\n",
            "  # Remove the CWD from sys.path while we load stuff.\n",
            "/usr/local/lib/python3.6/dist-packages/ipykernel_launcher.py:10: DeprecationWarning: Call to deprecated `__getitem__` (Method will be removed in 4.0.0, use self.wv.__getitem__() instead).\n",
            "  # Remove the CWD from sys.path while we load stuff.\n"
          ],
          "name": "stderr"
        },
        {
          "output_type": "error",
          "ename": "KeyboardInterrupt",
          "evalue": "ignored",
          "traceback": [
            "\u001b[0;31m---------------------------------------------------------------------------\u001b[0m",
            "\u001b[0;31mKeyboardInterrupt\u001b[0m                         Traceback (most recent call last)",
            "\u001b[0;32m<ipython-input-13-bd5de83ff80b>\u001b[0m in \u001b[0;36m<module>\u001b[0;34m()\u001b[0m\n\u001b[1;32m      3\u001b[0m \u001b[0;31m### stop this cell anytime after finishing app demo, then you will also lose the connection\u001b[0m\u001b[0;34m\u001b[0m\u001b[0;34m\u001b[0m\u001b[0;34m\u001b[0m\u001b[0m\n\u001b[1;32m      4\u001b[0m \u001b[0;31m### APP link: https://scientific-articles-search.anvil.app/\u001b[0m\u001b[0;34m\u001b[0m\u001b[0;34m\u001b[0m\u001b[0;34m\u001b[0m\u001b[0m\n\u001b[0;32m----> 5\u001b[0;31m \u001b[0manvil\u001b[0m\u001b[0;34m.\u001b[0m\u001b[0mserver\u001b[0m\u001b[0;34m.\u001b[0m\u001b[0mwait_forever\u001b[0m\u001b[0;34m(\u001b[0m\u001b[0;34m)\u001b[0m\u001b[0;34m\u001b[0m\u001b[0;34m\u001b[0m\u001b[0m\n\u001b[0m",
            "\u001b[0;32m/usr/local/lib/python3.6/dist-packages/anvil/server.py\u001b[0m in \u001b[0;36mwait_forever\u001b[0;34m()\u001b[0m\n\u001b[1;32m    333\u001b[0m     \u001b[0m_get_connection\u001b[0m\u001b[0;34m(\u001b[0m\u001b[0;34m)\u001b[0m\u001b[0;34m\u001b[0m\u001b[0;34m\u001b[0m\u001b[0m\n\u001b[1;32m    334\u001b[0m     \u001b[0;32mwhile\u001b[0m \u001b[0;32mTrue\u001b[0m\u001b[0;34m:\u001b[0m\u001b[0;34m\u001b[0m\u001b[0;34m\u001b[0m\u001b[0m\n\u001b[0;32m--> 335\u001b[0;31m         \u001b[0mtime\u001b[0m\u001b[0;34m.\u001b[0m\u001b[0msleep\u001b[0m\u001b[0;34m(\u001b[0m\u001b[0;36m1\u001b[0m\u001b[0;34m)\u001b[0m\u001b[0;34m\u001b[0m\u001b[0;34m\u001b[0m\u001b[0m\n\u001b[0m",
            "\u001b[0;31mKeyboardInterrupt\u001b[0m: "
          ]
        }
      ]
    },
    {
      "cell_type": "markdown",
      "metadata": {
        "id": "-2WHdI0ZnwGh"
      },
      "source": [
        "### Test run:"
      ]
    },
    {
      "cell_type": "code",
      "metadata": {
        "colab": {
          "base_uri": "https://localhost:8080/"
        },
        "id": "U-9O-3K8BDe3",
        "outputId": "91da58ee-b3a4-4367-8390-240940dd61cf"
      },
      "source": [
        "top1_return('polymer')"
      ],
      "execution_count": null,
      "outputs": [
        {
          "output_type": "stream",
          "text": [
            "/usr/local/lib/python3.6/dist-packages/ipykernel_launcher.py:10: DeprecationWarning: Call to deprecated `__getitem__` (Method will be removed in 4.0.0, use self.wv.__getitem__() instead).\n",
            "  # Remove the CWD from sys.path while we load stuff.\n"
          ],
          "name": "stderr"
        },
        {
          "output_type": "execute_result",
          "data": {
            "text/plain": [
              "['Top 1 article;',\n",
              " 'Topic: Physics;',\n",
              " 'Title: click based porous cationic polymers for enhanced carbon dioxide capture;',\n",
              " 'Similarity: 0.6564209560003762']"
            ]
          },
          "metadata": {
            "tags": []
          },
          "execution_count": 162
        }
      ]
    },
    {
      "cell_type": "code",
      "metadata": {
        "colab": {
          "base_uri": "https://localhost:8080/"
        },
        "id": "tFZOgO3qFI3G",
        "outputId": "25042f72-915b-4b3a-cd24-a85ec543a38a"
      },
      "source": [
        "top2_return('polymer')"
      ],
      "execution_count": null,
      "outputs": [
        {
          "output_type": "stream",
          "text": [
            "/usr/local/lib/python3.6/dist-packages/ipykernel_launcher.py:10: DeprecationWarning: Call to deprecated `__getitem__` (Method will be removed in 4.0.0, use self.wv.__getitem__() instead).\n",
            "  # Remove the CWD from sys.path while we load stuff.\n"
          ],
          "name": "stderr"
        },
        {
          "output_type": "execute_result",
          "data": {
            "text/plain": [
              "['Top 2 article;',\n",
              " 'Topic: Physics;',\n",
              " 'Title: rigidity induced scale invariance in polymer ejection from capsid;',\n",
              " 'Similarity: 0.6388111445653023']"
            ]
          },
          "metadata": {
            "tags": []
          },
          "execution_count": 163
        }
      ]
    },
    {
      "cell_type": "code",
      "metadata": {
        "colab": {
          "base_uri": "https://localhost:8080/"
        },
        "id": "pZpV90SwFJXm",
        "outputId": "a2d55299-1203-4759-970f-5b8ccd175cb3"
      },
      "source": [
        "top3_return('polymer')"
      ],
      "execution_count": null,
      "outputs": [
        {
          "output_type": "stream",
          "text": [
            "/usr/local/lib/python3.6/dist-packages/ipykernel_launcher.py:10: DeprecationWarning: Call to deprecated `__getitem__` (Method will be removed in 4.0.0, use self.wv.__getitem__() instead).\n",
            "  # Remove the CWD from sys.path while we load stuff.\n"
          ],
          "name": "stderr"
        },
        {
          "output_type": "execute_result",
          "data": {
            "text/plain": [
              "['Top 3 article;',\n",
              " 'Topic: Physics;',\n",
              " 'Title: liquid crystal induced elasto capillary suppression of crack formation in thin colloidal films;',\n",
              " 'Similarity: 0.6282966400359479']"
            ]
          },
          "metadata": {
            "tags": []
          },
          "execution_count": 164
        }
      ]
    },
    {
      "cell_type": "code",
      "metadata": {
        "colab": {
          "base_uri": "https://localhost:8080/",
          "height": 542
        },
        "id": "T6Wq41uiHFRn",
        "outputId": "1039f8d9-4a66-47b4-ba99-518a1144fa85"
      },
      "source": [
        "word2vec_df.head()"
      ],
      "execution_count": null,
      "outputs": [
        {
          "output_type": "execute_result",
          "data": {
            "text/html": [
              "<div>\n",
              "<style scoped>\n",
              "    .dataframe tbody tr th:only-of-type {\n",
              "        vertical-align: middle;\n",
              "    }\n",
              "\n",
              "    .dataframe tbody tr th {\n",
              "        vertical-align: top;\n",
              "    }\n",
              "\n",
              "    .dataframe thead th {\n",
              "        text-align: right;\n",
              "    }\n",
              "</style>\n",
              "<table border=\"1\" class=\"dataframe\">\n",
              "  <thead>\n",
              "    <tr style=\"text-align: right;\">\n",
              "      <th></th>\n",
              "      <th>TOPIC</th>\n",
              "      <th>TITLE</th>\n",
              "      <th>ABSTRACT</th>\n",
              "      <th>0</th>\n",
              "      <th>1</th>\n",
              "      <th>2</th>\n",
              "      <th>3</th>\n",
              "      <th>4</th>\n",
              "      <th>5</th>\n",
              "      <th>6</th>\n",
              "      <th>7</th>\n",
              "      <th>8</th>\n",
              "      <th>9</th>\n",
              "      <th>10</th>\n",
              "      <th>11</th>\n",
              "      <th>12</th>\n",
              "      <th>13</th>\n",
              "      <th>14</th>\n",
              "      <th>15</th>\n",
              "      <th>16</th>\n",
              "      <th>17</th>\n",
              "      <th>18</th>\n",
              "      <th>19</th>\n",
              "      <th>20</th>\n",
              "      <th>21</th>\n",
              "      <th>22</th>\n",
              "      <th>23</th>\n",
              "      <th>24</th>\n",
              "      <th>25</th>\n",
              "      <th>26</th>\n",
              "      <th>27</th>\n",
              "      <th>28</th>\n",
              "      <th>29</th>\n",
              "      <th>30</th>\n",
              "      <th>31</th>\n",
              "      <th>32</th>\n",
              "      <th>33</th>\n",
              "      <th>34</th>\n",
              "      <th>35</th>\n",
              "      <th>36</th>\n",
              "      <th>...</th>\n",
              "      <th>260</th>\n",
              "      <th>261</th>\n",
              "      <th>262</th>\n",
              "      <th>263</th>\n",
              "      <th>264</th>\n",
              "      <th>265</th>\n",
              "      <th>266</th>\n",
              "      <th>267</th>\n",
              "      <th>268</th>\n",
              "      <th>269</th>\n",
              "      <th>270</th>\n",
              "      <th>271</th>\n",
              "      <th>272</th>\n",
              "      <th>273</th>\n",
              "      <th>274</th>\n",
              "      <th>275</th>\n",
              "      <th>276</th>\n",
              "      <th>277</th>\n",
              "      <th>278</th>\n",
              "      <th>279</th>\n",
              "      <th>280</th>\n",
              "      <th>281</th>\n",
              "      <th>282</th>\n",
              "      <th>283</th>\n",
              "      <th>284</th>\n",
              "      <th>285</th>\n",
              "      <th>286</th>\n",
              "      <th>287</th>\n",
              "      <th>288</th>\n",
              "      <th>289</th>\n",
              "      <th>290</th>\n",
              "      <th>291</th>\n",
              "      <th>292</th>\n",
              "      <th>293</th>\n",
              "      <th>294</th>\n",
              "      <th>295</th>\n",
              "      <th>296</th>\n",
              "      <th>297</th>\n",
              "      <th>298</th>\n",
              "      <th>299</th>\n",
              "    </tr>\n",
              "  </thead>\n",
              "  <tbody>\n",
              "    <tr>\n",
              "      <th>0</th>\n",
              "      <td>Computer Science</td>\n",
              "      <td>Reconstructing Subject-Specific Effect Maps</td>\n",
              "      <td>Predictive models allow subject-specific inf...</td>\n",
              "      <td>-0.448448</td>\n",
              "      <td>0.035251</td>\n",
              "      <td>-0.089019</td>\n",
              "      <td>0.007096</td>\n",
              "      <td>-0.339412</td>\n",
              "      <td>-0.024948</td>\n",
              "      <td>-0.188786</td>\n",
              "      <td>-0.060108</td>\n",
              "      <td>-0.206685</td>\n",
              "      <td>-0.003548</td>\n",
              "      <td>0.042048</td>\n",
              "      <td>-0.061465</td>\n",
              "      <td>0.129220</td>\n",
              "      <td>0.041858</td>\n",
              "      <td>-0.023266</td>\n",
              "      <td>0.126139</td>\n",
              "      <td>0.029197</td>\n",
              "      <td>0.028929</td>\n",
              "      <td>-0.262629</td>\n",
              "      <td>-0.001307</td>\n",
              "      <td>0.058143</td>\n",
              "      <td>-0.014159</td>\n",
              "      <td>-0.001000</td>\n",
              "      <td>0.065697</td>\n",
              "      <td>-0.035884</td>\n",
              "      <td>0.032026</td>\n",
              "      <td>-0.099922</td>\n",
              "      <td>0.099893</td>\n",
              "      <td>-0.104603</td>\n",
              "      <td>0.163505</td>\n",
              "      <td>-0.168879</td>\n",
              "      <td>0.138395</td>\n",
              "      <td>0.054678</td>\n",
              "      <td>0.066432</td>\n",
              "      <td>0.150720</td>\n",
              "      <td>-0.021036</td>\n",
              "      <td>-0.075519</td>\n",
              "      <td>...</td>\n",
              "      <td>0.261588</td>\n",
              "      <td>-0.046505</td>\n",
              "      <td>0.215926</td>\n",
              "      <td>-0.032483</td>\n",
              "      <td>-0.053991</td>\n",
              "      <td>-0.188811</td>\n",
              "      <td>0.127584</td>\n",
              "      <td>-0.174169</td>\n",
              "      <td>-0.157416</td>\n",
              "      <td>0.006944</td>\n",
              "      <td>0.030822</td>\n",
              "      <td>-0.120577</td>\n",
              "      <td>0.028017</td>\n",
              "      <td>-0.282736</td>\n",
              "      <td>0.009962</td>\n",
              "      <td>-0.032324</td>\n",
              "      <td>-0.006661</td>\n",
              "      <td>0.075290</td>\n",
              "      <td>-0.257030</td>\n",
              "      <td>0.049402</td>\n",
              "      <td>-0.077897</td>\n",
              "      <td>-0.057387</td>\n",
              "      <td>-0.114512</td>\n",
              "      <td>0.293980</td>\n",
              "      <td>0.042755</td>\n",
              "      <td>0.084344</td>\n",
              "      <td>-0.048697</td>\n",
              "      <td>-0.207761</td>\n",
              "      <td>0.254927</td>\n",
              "      <td>-0.056065</td>\n",
              "      <td>-0.059280</td>\n",
              "      <td>0.166122</td>\n",
              "      <td>0.485970</td>\n",
              "      <td>0.027195</td>\n",
              "      <td>0.251415</td>\n",
              "      <td>-0.109105</td>\n",
              "      <td>0.137955</td>\n",
              "      <td>0.066458</td>\n",
              "      <td>0.326031</td>\n",
              "      <td>0.103056</td>\n",
              "    </tr>\n",
              "    <tr>\n",
              "      <th>1</th>\n",
              "      <td>Computer Science</td>\n",
              "      <td>Rotation Invariance Neural Network</td>\n",
              "      <td>Rotation invariance and translation invarian...</td>\n",
              "      <td>-0.477949</td>\n",
              "      <td>0.252150</td>\n",
              "      <td>0.104502</td>\n",
              "      <td>-0.599172</td>\n",
              "      <td>0.055941</td>\n",
              "      <td>0.134536</td>\n",
              "      <td>-0.124163</td>\n",
              "      <td>-0.350260</td>\n",
              "      <td>-0.414809</td>\n",
              "      <td>0.113465</td>\n",
              "      <td>-0.059642</td>\n",
              "      <td>-0.054297</td>\n",
              "      <td>-0.192648</td>\n",
              "      <td>-0.197537</td>\n",
              "      <td>0.074049</td>\n",
              "      <td>0.389749</td>\n",
              "      <td>0.016371</td>\n",
              "      <td>0.154554</td>\n",
              "      <td>-0.131592</td>\n",
              "      <td>-0.010085</td>\n",
              "      <td>0.206507</td>\n",
              "      <td>-0.162666</td>\n",
              "      <td>-0.043451</td>\n",
              "      <td>0.032030</td>\n",
              "      <td>-0.003747</td>\n",
              "      <td>-0.218698</td>\n",
              "      <td>0.096398</td>\n",
              "      <td>0.017538</td>\n",
              "      <td>-0.042595</td>\n",
              "      <td>0.370338</td>\n",
              "      <td>-0.226409</td>\n",
              "      <td>0.133652</td>\n",
              "      <td>0.245845</td>\n",
              "      <td>0.562432</td>\n",
              "      <td>0.170427</td>\n",
              "      <td>0.089181</td>\n",
              "      <td>-0.202120</td>\n",
              "      <td>...</td>\n",
              "      <td>0.523967</td>\n",
              "      <td>0.079987</td>\n",
              "      <td>-0.021293</td>\n",
              "      <td>0.236075</td>\n",
              "      <td>0.118590</td>\n",
              "      <td>-0.132271</td>\n",
              "      <td>-0.181804</td>\n",
              "      <td>-0.562538</td>\n",
              "      <td>0.093805</td>\n",
              "      <td>0.144481</td>\n",
              "      <td>0.110627</td>\n",
              "      <td>0.192142</td>\n",
              "      <td>-0.176963</td>\n",
              "      <td>-0.387312</td>\n",
              "      <td>0.144895</td>\n",
              "      <td>0.223393</td>\n",
              "      <td>-0.222542</td>\n",
              "      <td>0.439582</td>\n",
              "      <td>-0.129087</td>\n",
              "      <td>-0.315339</td>\n",
              "      <td>-0.279286</td>\n",
              "      <td>0.007606</td>\n",
              "      <td>-0.073501</td>\n",
              "      <td>0.221205</td>\n",
              "      <td>0.255396</td>\n",
              "      <td>-0.155197</td>\n",
              "      <td>0.051089</td>\n",
              "      <td>-0.133921</td>\n",
              "      <td>0.425791</td>\n",
              "      <td>-0.091376</td>\n",
              "      <td>0.433311</td>\n",
              "      <td>0.557436</td>\n",
              "      <td>0.419998</td>\n",
              "      <td>0.121057</td>\n",
              "      <td>0.346125</td>\n",
              "      <td>-0.328763</td>\n",
              "      <td>0.115979</td>\n",
              "      <td>0.105007</td>\n",
              "      <td>0.099238</td>\n",
              "      <td>0.125111</td>\n",
              "    </tr>\n",
              "    <tr>\n",
              "      <th>2</th>\n",
              "      <td>Mathematics</td>\n",
              "      <td>Spherical polyharmonics and Poisson kernels fo...</td>\n",
              "      <td>We introduce and develop the notion of spher...</td>\n",
              "      <td>-0.307183</td>\n",
              "      <td>0.117733</td>\n",
              "      <td>0.533033</td>\n",
              "      <td>0.103052</td>\n",
              "      <td>0.168331</td>\n",
              "      <td>-0.137077</td>\n",
              "      <td>0.393069</td>\n",
              "      <td>-0.494980</td>\n",
              "      <td>-0.066008</td>\n",
              "      <td>-0.070225</td>\n",
              "      <td>-0.334492</td>\n",
              "      <td>0.120257</td>\n",
              "      <td>-0.246630</td>\n",
              "      <td>-0.585483</td>\n",
              "      <td>0.217331</td>\n",
              "      <td>-0.090337</td>\n",
              "      <td>0.577048</td>\n",
              "      <td>0.261208</td>\n",
              "      <td>-0.007052</td>\n",
              "      <td>0.285776</td>\n",
              "      <td>0.253724</td>\n",
              "      <td>-0.113803</td>\n",
              "      <td>0.276311</td>\n",
              "      <td>0.122123</td>\n",
              "      <td>-0.118819</td>\n",
              "      <td>-0.549138</td>\n",
              "      <td>0.246334</td>\n",
              "      <td>0.163415</td>\n",
              "      <td>-0.389296</td>\n",
              "      <td>-0.195491</td>\n",
              "      <td>0.359406</td>\n",
              "      <td>-0.044462</td>\n",
              "      <td>-0.082277</td>\n",
              "      <td>0.170363</td>\n",
              "      <td>0.084460</td>\n",
              "      <td>-0.415979</td>\n",
              "      <td>-0.058475</td>\n",
              "      <td>...</td>\n",
              "      <td>0.254627</td>\n",
              "      <td>0.233074</td>\n",
              "      <td>-0.160440</td>\n",
              "      <td>0.095125</td>\n",
              "      <td>0.197509</td>\n",
              "      <td>-0.034298</td>\n",
              "      <td>0.600327</td>\n",
              "      <td>0.076186</td>\n",
              "      <td>-0.227420</td>\n",
              "      <td>0.013842</td>\n",
              "      <td>0.219161</td>\n",
              "      <td>-0.323361</td>\n",
              "      <td>0.075231</td>\n",
              "      <td>-0.003047</td>\n",
              "      <td>0.038519</td>\n",
              "      <td>-0.233750</td>\n",
              "      <td>0.284915</td>\n",
              "      <td>-0.023618</td>\n",
              "      <td>0.156181</td>\n",
              "      <td>-0.134106</td>\n",
              "      <td>0.261896</td>\n",
              "      <td>0.207064</td>\n",
              "      <td>-0.050655</td>\n",
              "      <td>0.346918</td>\n",
              "      <td>-0.067438</td>\n",
              "      <td>-0.319247</td>\n",
              "      <td>0.059197</td>\n",
              "      <td>-0.327312</td>\n",
              "      <td>0.144327</td>\n",
              "      <td>0.060545</td>\n",
              "      <td>0.443775</td>\n",
              "      <td>0.334781</td>\n",
              "      <td>0.462823</td>\n",
              "      <td>0.097957</td>\n",
              "      <td>0.415902</td>\n",
              "      <td>-0.346801</td>\n",
              "      <td>0.417170</td>\n",
              "      <td>-0.120023</td>\n",
              "      <td>0.098406</td>\n",
              "      <td>-0.062370</td>\n",
              "    </tr>\n",
              "    <tr>\n",
              "      <th>3</th>\n",
              "      <td>Mathematics</td>\n",
              "      <td>A finite element approximation for the stochas...</td>\n",
              "      <td>The stochastic Landau--Lifshitz--Gilbert (LL...</td>\n",
              "      <td>-0.074151</td>\n",
              "      <td>0.269585</td>\n",
              "      <td>0.298697</td>\n",
              "      <td>-0.105616</td>\n",
              "      <td>-0.092386</td>\n",
              "      <td>-0.172397</td>\n",
              "      <td>0.229857</td>\n",
              "      <td>-0.545244</td>\n",
              "      <td>-0.006653</td>\n",
              "      <td>-0.092277</td>\n",
              "      <td>0.017801</td>\n",
              "      <td>-0.100552</td>\n",
              "      <td>-0.150662</td>\n",
              "      <td>-0.660694</td>\n",
              "      <td>0.012102</td>\n",
              "      <td>0.249796</td>\n",
              "      <td>0.355041</td>\n",
              "      <td>0.259081</td>\n",
              "      <td>0.214408</td>\n",
              "      <td>0.331038</td>\n",
              "      <td>0.109056</td>\n",
              "      <td>0.092551</td>\n",
              "      <td>-0.197644</td>\n",
              "      <td>0.050059</td>\n",
              "      <td>-0.045057</td>\n",
              "      <td>-0.191982</td>\n",
              "      <td>0.158939</td>\n",
              "      <td>0.069285</td>\n",
              "      <td>0.239220</td>\n",
              "      <td>0.118832</td>\n",
              "      <td>0.379045</td>\n",
              "      <td>-0.129048</td>\n",
              "      <td>0.116900</td>\n",
              "      <td>0.290216</td>\n",
              "      <td>-0.042677</td>\n",
              "      <td>-0.477637</td>\n",
              "      <td>0.124183</td>\n",
              "      <td>...</td>\n",
              "      <td>0.121803</td>\n",
              "      <td>0.004377</td>\n",
              "      <td>0.274829</td>\n",
              "      <td>0.320731</td>\n",
              "      <td>-0.054828</td>\n",
              "      <td>0.074731</td>\n",
              "      <td>0.323229</td>\n",
              "      <td>-0.069059</td>\n",
              "      <td>-0.386298</td>\n",
              "      <td>0.190576</td>\n",
              "      <td>0.130375</td>\n",
              "      <td>-0.524699</td>\n",
              "      <td>0.080479</td>\n",
              "      <td>-0.061552</td>\n",
              "      <td>-0.101024</td>\n",
              "      <td>-0.391919</td>\n",
              "      <td>0.163713</td>\n",
              "      <td>-0.003976</td>\n",
              "      <td>-0.051148</td>\n",
              "      <td>0.109306</td>\n",
              "      <td>0.219297</td>\n",
              "      <td>0.172610</td>\n",
              "      <td>0.023374</td>\n",
              "      <td>0.301593</td>\n",
              "      <td>-0.208695</td>\n",
              "      <td>-0.436762</td>\n",
              "      <td>-0.123417</td>\n",
              "      <td>-0.206296</td>\n",
              "      <td>0.250802</td>\n",
              "      <td>0.032151</td>\n",
              "      <td>0.506820</td>\n",
              "      <td>0.354676</td>\n",
              "      <td>0.199497</td>\n",
              "      <td>-0.146292</td>\n",
              "      <td>0.269955</td>\n",
              "      <td>0.251878</td>\n",
              "      <td>0.574969</td>\n",
              "      <td>0.020415</td>\n",
              "      <td>0.311737</td>\n",
              "      <td>-0.250298</td>\n",
              "    </tr>\n",
              "    <tr>\n",
              "      <th>4</th>\n",
              "      <td>Mathematics</td>\n",
              "      <td>On maximizing the fundamental frequency of the...</td>\n",
              "      <td>Let $\\Omega \\subset \\mathbb{R}^n$ be a bound...</td>\n",
              "      <td>0.095667</td>\n",
              "      <td>0.232364</td>\n",
              "      <td>0.329334</td>\n",
              "      <td>-0.140332</td>\n",
              "      <td>0.201738</td>\n",
              "      <td>-0.270306</td>\n",
              "      <td>0.154323</td>\n",
              "      <td>-0.291960</td>\n",
              "      <td>-0.060248</td>\n",
              "      <td>-0.152751</td>\n",
              "      <td>-0.113698</td>\n",
              "      <td>-0.085282</td>\n",
              "      <td>-0.128719</td>\n",
              "      <td>-0.398224</td>\n",
              "      <td>0.160521</td>\n",
              "      <td>-0.047843</td>\n",
              "      <td>0.953402</td>\n",
              "      <td>0.125512</td>\n",
              "      <td>0.085510</td>\n",
              "      <td>0.212910</td>\n",
              "      <td>-0.165107</td>\n",
              "      <td>0.021546</td>\n",
              "      <td>-0.024883</td>\n",
              "      <td>0.192614</td>\n",
              "      <td>-0.289331</td>\n",
              "      <td>-0.016050</td>\n",
              "      <td>0.331732</td>\n",
              "      <td>-0.000206</td>\n",
              "      <td>-0.038579</td>\n",
              "      <td>0.307810</td>\n",
              "      <td>0.504041</td>\n",
              "      <td>-0.071706</td>\n",
              "      <td>0.120339</td>\n",
              "      <td>0.419693</td>\n",
              "      <td>0.308327</td>\n",
              "      <td>-0.429891</td>\n",
              "      <td>0.258923</td>\n",
              "      <td>...</td>\n",
              "      <td>-0.189963</td>\n",
              "      <td>0.220411</td>\n",
              "      <td>0.217573</td>\n",
              "      <td>0.012544</td>\n",
              "      <td>0.135778</td>\n",
              "      <td>0.037033</td>\n",
              "      <td>0.533651</td>\n",
              "      <td>0.174971</td>\n",
              "      <td>-0.235514</td>\n",
              "      <td>0.095555</td>\n",
              "      <td>0.075724</td>\n",
              "      <td>-0.384186</td>\n",
              "      <td>-0.250023</td>\n",
              "      <td>0.283036</td>\n",
              "      <td>-0.096505</td>\n",
              "      <td>-0.104849</td>\n",
              "      <td>0.182665</td>\n",
              "      <td>-0.055236</td>\n",
              "      <td>0.003937</td>\n",
              "      <td>0.084486</td>\n",
              "      <td>-0.062207</td>\n",
              "      <td>0.072378</td>\n",
              "      <td>0.419295</td>\n",
              "      <td>0.406439</td>\n",
              "      <td>0.075486</td>\n",
              "      <td>-0.264899</td>\n",
              "      <td>-0.120881</td>\n",
              "      <td>-0.369649</td>\n",
              "      <td>-0.123629</td>\n",
              "      <td>0.273477</td>\n",
              "      <td>0.904608</td>\n",
              "      <td>0.781384</td>\n",
              "      <td>0.363992</td>\n",
              "      <td>-0.076466</td>\n",
              "      <td>0.222707</td>\n",
              "      <td>0.248745</td>\n",
              "      <td>0.381798</td>\n",
              "      <td>0.226330</td>\n",
              "      <td>0.177887</td>\n",
              "      <td>0.083790</td>\n",
              "    </tr>\n",
              "  </tbody>\n",
              "</table>\n",
              "<p>5 rows × 303 columns</p>\n",
              "</div>"
            ],
            "text/plain": [
              "              TOPIC  ...       299\n",
              "0  Computer Science  ...  0.103056\n",
              "1  Computer Science  ...  0.125111\n",
              "2       Mathematics  ... -0.062370\n",
              "3       Mathematics  ... -0.250298\n",
              "4       Mathematics  ...  0.083790\n",
              "\n",
              "[5 rows x 303 columns]"
            ]
          },
          "metadata": {
            "tags": []
          },
          "execution_count": 173
        }
      ]
    }
  ]
}